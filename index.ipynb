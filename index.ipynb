{
 "cells": [
  {
   "cell_type": "markdown",
   "metadata": {},
   "source": [
    "# Scraping Concerts - Lab\n",
    "\n",
    "## Introduction\n",
    "\n",
    "Now that you've seen how to scrape a simple website, it's time to again practice those skills on a full-fledged site!\n",
    "In this lab, you'll practice your scraping skills on a music website: https://www.residentadvisor.net.\n",
    "## Objectives\n",
    "\n",
    "You will be able to:\n",
    "* Scrape events from a website\n",
    "* Follow links to those events to retrieve further information\n",
    "* Clean and store scraped data"
   ]
  },
  {
   "cell_type": "markdown",
   "metadata": {},
   "source": [
    "## View the Website\n",
    "\n",
    "For this lab, you'll be scraping the https://www.residentadvisor.net website. Start by navigating to the events page [here](https://www.residentadvisor.net/events) in your browser.\n",
    "\n",
    "<img src=\"images/ra.png\">"
   ]
  },
  {
   "cell_type": "code",
   "execution_count": 1,
   "metadata": {},
   "outputs": [],
   "source": [
    "import pandas as pd\n",
    "import requests\n",
    "from bs4 import BeautifulSoup\n",
    "from pprint import pprint as pp\n",
    "from collections import defaultdict"
   ]
  },
  {
   "cell_type": "code",
   "execution_count": null,
   "metadata": {},
   "outputs": [],
   "source": [
    "#Load the https://www.residentadvisor.net/events page in your browser."
   ]
  },
  {
   "cell_type": "markdown",
   "metadata": {},
   "source": [
    "## Open the Inspect Element Feature\n",
    "\n",
    "Next, open the inspect element feature from your web browser in order to preview the underlying HTML associated with the page."
   ]
  },
  {
   "cell_type": "code",
   "execution_count": null,
   "metadata": {},
   "outputs": [],
   "source": [
    "#Open the inspect element feature in your browser"
   ]
  },
  {
   "cell_type": "markdown",
   "metadata": {},
   "source": [
    "## Write a Function to Scrape all of the Events on the Given Page Events Page\n",
    "\n",
    "The function should return a Pandas DataFrame with columns for the Event_Name, Venue, Event_Date and Number_of_Attendees."
   ]
  },
  {
   "cell_type": "code",
   "execution_count": 8,
   "metadata": {},
   "outputs": [],
   "source": [
    "request = requests.get('https://www.residentadvisor.net/events')\n",
    "soup = BeautifulSoup(request.content)"
   ]
  },
  {
   "cell_type": "code",
   "execution_count": 124,
   "metadata": {},
   "outputs": [
    {
     "name": "stdout",
     "output_type": "stream",
     "text": [
      "Trouble IN Paradise at Daddy's Grotto ### at TBA - Richmond ### 3\n",
      "Phreak ### at Eyeclops Studios ### 1\n",
      "Trouble IN Paradise at Daddy's Grotto ### at TBA - Richmond ### 3\n",
      "['10 Aug 2019', \"Trouble IN Paradise at Daddy's Grotto\", 'at TBA - Richmond', '3']\n"
     ]
    }
   ],
   "source": [
    "rows = []\n",
    "for li in soup.select('#items li'):\n",
    "    date_attr = li.select_one('p.eventDate.date')\n",
    "    if date_attr:\n",
    "        date = date_attr.get_text()[5:-2]\n",
    "        \n",
    "    event_item = li.select_one('.event-item')\n",
    "    if event_item:\n",
    "        title = event_item.select_one('.event-title a').get_text()\n",
    "        venue = event_item.select_one('.event-title span').get_text()\n",
    "        attending = event_item.select_one('.attending span').get_text()\n",
    "        print(title, venue, attending, sep=' ### ')\n",
    "        rows.append([date, title, venue, attending])\n",
    "        \n",
    "    \n",
    "    #print(date)\n",
    "print(rows[0])\n",
    "df = pd.DataFrame(rows)\n",
    "df.columns = ['date', 'title', 'venue', 'attending']\n",
    "df.venue = df.venue.str.replace('at ', '')\n",
    "df.date = pd.to_datetime(df.date)"
   ]
  },
  {
   "cell_type": "code",
   "execution_count": 179,
   "metadata": {},
   "outputs": [],
   "source": [
    "del rows"
   ]
  },
  {
   "cell_type": "code",
   "execution_count": null,
   "metadata": {},
   "outputs": [],
   "source": []
  },
  {
   "cell_type": "code",
   "execution_count": 153,
   "metadata": {},
   "outputs": [],
   "source": []
  },
  {
   "cell_type": "code",
   "execution_count": 2,
   "metadata": {},
   "outputs": [],
   "source": [
    "def scrape_events(events_page_url):\n",
    "    request = requests.get(events_page_url)\n",
    "    soup = BeautifulSoup(request.content)\n",
    "    \n",
    "    rows = []\n",
    "    for li in soup.select('#items li'):\n",
    "        date_attr = li.select_one('p.eventDate.date')\n",
    "        if date_attr:\n",
    "            date = date_attr.get_text()[5:-2]\n",
    "\n",
    "        event_item = li.select_one('.event-item')\n",
    "        if event_item:\n",
    "            title = event_item.select_one('.event-title a').get_text()\n",
    "            venue = event_item.select_one('.event-title span').get_text()\n",
    "            \n",
    "            try:\n",
    "                attending = event_item.select_one('.attending span').get_text()\n",
    "            except AttributeError:\n",
    "                attending = 0\n",
    "                \n",
    "            #print(title, venue, attending, sep=' ### ')\n",
    "            rows.append([title, venue, date, attending])\n",
    "\n",
    "    return rows\n",
    "\n",
    "#rows = scrape_events('https://www.residentadvisor.net/events')\n",
    "#print(rows)"
   ]
  },
  {
   "cell_type": "code",
   "execution_count": 160,
   "metadata": {},
   "outputs": [
    {
     "data": {
      "text/plain": [
       "'https://www.residentadvisor.net//events/us/virginia/week/2019-08-28'"
      ]
     },
     "execution_count": 160,
     "metadata": {},
     "output_type": "execute_result"
    }
   ],
   "source": [
    "next_page('https://www.residentadvisor.net/events/us/virginia/week/2019-08-21')"
   ]
  },
  {
   "cell_type": "markdown",
   "metadata": {},
   "source": [
    "## Write a Function to Retrieve the URL for the Next Page"
   ]
  },
  {
   "cell_type": "code",
   "execution_count": 3,
   "metadata": {},
   "outputs": [],
   "source": [
    "def next_page(url):\n",
    "    base_url = 'https://www.residentadvisor.net'\n",
    "    request = requests.get(url)\n",
    "    soup = BeautifulSoup(request.content)\n",
    "    next_url = soup.select_one('#liNext2 a').attrs['href']\n",
    "    next_page_url = base_url + next_url\n",
    "    return next_page_url"
   ]
  },
  {
   "cell_type": "code",
   "execution_count": 165,
   "metadata": {},
   "outputs": [
    {
     "data": {
      "text/plain": [
       "'https://www.residentadvisor.net//events/us/newyork/week/2019-08-15'"
      ]
     },
     "execution_count": 165,
     "metadata": {},
     "output_type": "execute_result"
    }
   ],
   "source": [
    "next_page('https://www.residentadvisor.net/events')"
   ]
  },
  {
   "cell_type": "markdown",
   "metadata": {},
   "source": [
    "## Scrape the Next 1000 Events for Your Area\n",
    "\n",
    "Display the data sorted by the number of attendees. If there is a tie for the number attending, sort by event date."
   ]
  },
  {
   "cell_type": "code",
   "execution_count": 13,
   "metadata": {},
   "outputs": [
    {
     "name": "stdout",
     "output_type": "stream",
     "text": [
      "Loading events from: https://www.residentadvisor.net/events\n",
      "Loading events from: https://www.residentadvisor.net/events/us/newyork/week/2019-08-15\n",
      "Loading events from: https://www.residentadvisor.net/events/us/newyork/week/2019-08-22\n",
      "Loading events from: https://www.residentadvisor.net/events/us/newyork/week/2019-08-29\n",
      "Loading events from: https://www.residentadvisor.net/events/us/newyork/week/2019-09-05\n",
      "Loading events from: https://www.residentadvisor.net/events/us/newyork/week/2019-09-12\n",
      "Loading events from: https://www.residentadvisor.net/events/us/newyork/week/2019-09-19\n",
      "Loading events from: https://www.residentadvisor.net/events/us/newyork/week/2019-09-26\n",
      "Loading events from: https://www.residentadvisor.net/events/us/newyork/week/2019-10-03\n",
      "Loading events from: https://www.residentadvisor.net/events/us/newyork/week/2019-10-10\n",
      "Loading events from: https://www.residentadvisor.net/events/us/newyork/week/2019-10-17\n"
     ]
    },
    {
     "ename": "AttributeError",
     "evalue": "'NoneType' object has no attribute 'attrs'",
     "output_type": "error",
     "traceback": [
      "\u001b[0;31m---------------------------------------------------------------------------\u001b[0m",
      "\u001b[0;31mAttributeError\u001b[0m                            Traceback (most recent call last)",
      "\u001b[0;32m<ipython-input-13-7c3b9afb69c1>\u001b[0m in \u001b[0;36m<module>\u001b[0;34m\u001b[0m\n\u001b[1;32m      8\u001b[0m     \u001b[0mevents_list\u001b[0m\u001b[0;34m.\u001b[0m\u001b[0mextend\u001b[0m\u001b[0;34m(\u001b[0m\u001b[0mevents\u001b[0m\u001b[0;34m)\u001b[0m\u001b[0;34m\u001b[0m\u001b[0;34m\u001b[0m\u001b[0m\n\u001b[1;32m      9\u001b[0m     \u001b[0;31m#print(events_list)\u001b[0m\u001b[0;34m\u001b[0m\u001b[0;34m\u001b[0m\u001b[0;34m\u001b[0m\u001b[0m\n\u001b[0;32m---> 10\u001b[0;31m     \u001b[0murl\u001b[0m \u001b[0;34m=\u001b[0m \u001b[0mnext_page\u001b[0m\u001b[0;34m(\u001b[0m\u001b[0murl\u001b[0m\u001b[0;34m)\u001b[0m\u001b[0;34m\u001b[0m\u001b[0;34m\u001b[0m\u001b[0m\n\u001b[0m\u001b[1;32m     11\u001b[0m     \u001b[0;31m#print(url)\u001b[0m\u001b[0;34m\u001b[0m\u001b[0;34m\u001b[0m\u001b[0;34m\u001b[0m\u001b[0m\n\u001b[1;32m     12\u001b[0m \u001b[0;34m\u001b[0m\u001b[0m\n",
      "\u001b[0;32m<ipython-input-3-1215a83c5534>\u001b[0m in \u001b[0;36mnext_page\u001b[0;34m(url)\u001b[0m\n\u001b[1;32m      3\u001b[0m     \u001b[0mrequest\u001b[0m \u001b[0;34m=\u001b[0m \u001b[0mrequests\u001b[0m\u001b[0;34m.\u001b[0m\u001b[0mget\u001b[0m\u001b[0;34m(\u001b[0m\u001b[0murl\u001b[0m\u001b[0;34m)\u001b[0m\u001b[0;34m\u001b[0m\u001b[0;34m\u001b[0m\u001b[0m\n\u001b[1;32m      4\u001b[0m     \u001b[0msoup\u001b[0m \u001b[0;34m=\u001b[0m \u001b[0mBeautifulSoup\u001b[0m\u001b[0;34m(\u001b[0m\u001b[0mrequest\u001b[0m\u001b[0;34m.\u001b[0m\u001b[0mcontent\u001b[0m\u001b[0;34m)\u001b[0m\u001b[0;34m\u001b[0m\u001b[0;34m\u001b[0m\u001b[0m\n\u001b[0;32m----> 5\u001b[0;31m     \u001b[0mnext_url\u001b[0m \u001b[0;34m=\u001b[0m \u001b[0msoup\u001b[0m\u001b[0;34m.\u001b[0m\u001b[0mselect_one\u001b[0m\u001b[0;34m(\u001b[0m\u001b[0;34m'#liNext2 a'\u001b[0m\u001b[0;34m)\u001b[0m\u001b[0;34m.\u001b[0m\u001b[0mattrs\u001b[0m\u001b[0;34m[\u001b[0m\u001b[0;34m'href'\u001b[0m\u001b[0;34m]\u001b[0m\u001b[0;34m\u001b[0m\u001b[0;34m\u001b[0m\u001b[0m\n\u001b[0m\u001b[1;32m      6\u001b[0m     \u001b[0mnext_page_url\u001b[0m \u001b[0;34m=\u001b[0m \u001b[0mbase_url\u001b[0m \u001b[0;34m+\u001b[0m \u001b[0mnext_url\u001b[0m\u001b[0;34m\u001b[0m\u001b[0;34m\u001b[0m\u001b[0m\n\u001b[1;32m      7\u001b[0m     \u001b[0;32mreturn\u001b[0m \u001b[0mnext_page_url\u001b[0m\u001b[0;34m\u001b[0m\u001b[0;34m\u001b[0m\u001b[0m\n",
      "\u001b[0;31mAttributeError\u001b[0m: 'NoneType' object has no attribute 'attrs'"
     ]
    }
   ],
   "source": [
    "max_num_of_events = 1000\n",
    "url = 'https://www.residentadvisor.net/events'\n",
    "    \n",
    "events_list = []\n",
    "while(len(events_list) < max_num_of_events):\n",
    "    print('Loading events from:', url)\n",
    "    events = scrape_events(url)\n",
    "    events_list.extend(events)\n",
    "    #print(events_list)\n",
    "    url = next_page(url)\n",
    "    #print(url)\n",
    "\n",
    "df = pd.DataFrame(events_list)\n",
    "df.columns = [\"Event_Name\", \"Venue\", \"Event_Date\", \"Number_of_Attendees\"]\n",
    "df.Venue = df.Venue.str.replace('at ', '')\n",
    "df.Event_Date = pd.to_datetime(df.Event_Date)\n",
    "#print(df)"
   ]
  },
  {
   "cell_type": "code",
   "execution_count": 15,
   "metadata": {},
   "outputs": [
    {
     "data": {
      "text/html": [
       "<div>\n",
       "<style scoped>\n",
       "    .dataframe tbody tr th:only-of-type {\n",
       "        vertical-align: middle;\n",
       "    }\n",
       "\n",
       "    .dataframe tbody tr th {\n",
       "        vertical-align: top;\n",
       "    }\n",
       "\n",
       "    .dataframe thead th {\n",
       "        text-align: right;\n",
       "    }\n",
       "</style>\n",
       "<table border=\"1\" class=\"dataframe\">\n",
       "  <thead>\n",
       "    <tr style=\"text-align: right;\">\n",
       "      <th></th>\n",
       "      <th>Event_Name</th>\n",
       "      <th>Venue</th>\n",
       "      <th>Event_Date</th>\n",
       "      <th>Number_of_Attendees</th>\n",
       "    </tr>\n",
       "  </thead>\n",
       "  <tbody>\n",
       "    <tr>\n",
       "      <th>0</th>\n",
       "      <td>Morgana [free]: HOSH, jozif, Tim Sweeney, Morgan</td>\n",
       "      <td>Brooklyn Mirage</td>\n",
       "      <td>2019-08-08</td>\n",
       "      <td>386</td>\n",
       "    </tr>\n",
       "    <tr>\n",
       "      <th>1</th>\n",
       "      <td>Frendzone! // Doc Scott / Jacky Sommer b2b Kel...</td>\n",
       "      <td>Good Room</td>\n",
       "      <td>2019-08-08</td>\n",
       "      <td>18</td>\n",
       "    </tr>\n",
       "    <tr>\n",
       "      <th>2</th>\n",
       "      <td>Deeper Love with Proper Villains + Mike Trotte...</td>\n",
       "      <td>The Sultan Room</td>\n",
       "      <td>2019-08-08</td>\n",
       "      <td>4</td>\n",
       "    </tr>\n",
       "    <tr>\n",
       "      <th>3</th>\n",
       "      <td>DJ Seinfeld</td>\n",
       "      <td>public records</td>\n",
       "      <td>2019-08-08</td>\n",
       "      <td>25</td>\n",
       "    </tr>\n",
       "    <tr>\n",
       "      <th>4</th>\n",
       "      <td>Agenda: Fabuloso Edition</td>\n",
       "      <td>Bossa Nova Civic Club</td>\n",
       "      <td>2019-08-08</td>\n",
       "      <td>4</td>\n",
       "    </tr>\n",
       "  </tbody>\n",
       "</table>\n",
       "</div>"
      ],
      "text/plain": [
       "                                          Event_Name                  Venue  \\\n",
       "0   Morgana [free]: HOSH, jozif, Tim Sweeney, Morgan        Brooklyn Mirage   \n",
       "1  Frendzone! // Doc Scott / Jacky Sommer b2b Kel...              Good Room   \n",
       "2  Deeper Love with Proper Villains + Mike Trotte...        The Sultan Room   \n",
       "3                                        DJ Seinfeld         public records   \n",
       "4                           Agenda: Fabuloso Edition  Bossa Nova Civic Club   \n",
       "\n",
       "  Event_Date Number_of_Attendees  \n",
       "0 2019-08-08                 386  \n",
       "1 2019-08-08                  18  \n",
       "2 2019-08-08                   4  \n",
       "3 2019-08-08                  25  \n",
       "4 2019-08-08                   4  "
      ]
     },
     "execution_count": 15,
     "metadata": {},
     "output_type": "execute_result"
    }
   ],
   "source": [
    "df.head()"
   ]
  },
  {
   "cell_type": "markdown",
   "metadata": {},
   "source": [
    "## Summary \n",
    "\n",
    "Congratulations! In this lab, you successfully scraped a website for concert event information!"
   ]
  }
 ],
 "metadata": {
  "kernelspec": {
   "display_name": "learn-env",
   "language": "python",
   "name": "learn-env"
  },
  "language_info": {
   "codemirror_mode": {
    "name": "ipython",
    "version": 3
   },
   "file_extension": ".py",
   "mimetype": "text/x-python",
   "name": "python",
   "nbconvert_exporter": "python",
   "pygments_lexer": "ipython3",
   "version": "3.7.3"
  }
 },
 "nbformat": 4,
 "nbformat_minor": 4
}
